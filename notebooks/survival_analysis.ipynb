{
 "cells": [
  {
   "cell_type": "markdown",
   "metadata": {},
   "source": [
    "# Bayesian Survival Analysis\n",
    "\n",
    "Author: Austin Rochford\n",
    "\n",
    "[Survival analysis](https://en.wikipedia.org/wiki/Survival_analysis) studies the distribution of the time to an event.  Its applications span many fields across medicine, biology, engineering, and social science.  This tutorial shows how to fit and analyze a Bayesian survival model in Python using [PyMC3](https://pymc-devs.github.io/pymc3)."
   ]
  },
  {
   "cell_type": "code",
   "execution_count": null,
   "metadata": {},
   "outputs": [],
   "source": [
    "%matplotlib inline\n",
    "from matplotlib import pyplot as plt\n",
    "import numpy as np\n",
    "import pymc3 as pm\n",
    "from pymc3.distributions.timeseries import GaussianRandomWalk\n",
    "import seaborn as sns\n",
    "from statsmodels import datasets\n",
    "from theano import tensor as T"
   ]
  },
  {
   "cell_type": "markdown",
   "metadata": {},
   "source": [
    "We illustrate these concepts by analyzing a [mastectomy data set](https://vincentarelbundock.github.io/Rdatasets/doc/HSAUR/mastectomy.html)."
   ]
  },
  {
   "cell_type": "code",
   "execution_count": null,
   "metadata": {},
   "outputs": [],
   "source": [
    "df = datasets.get_rdataset('mastectomy', 'HSAUR', cache=True).data\n",
    "df.event = df.event.astype(np.int64)\n",
    "df.metastized = (df.metastized == 'yes').astype(np.int64)\n",
    "n_patients = df.shape[0]\n",
    "patients = np.arange(n_patients)"
   ]
  },
  {
   "cell_type": "code",
   "execution_count": null,
   "metadata": {},
   "outputs": [],
   "source": [
    "df.head()"
   ]
  },
  {
   "cell_type": "code",
   "execution_count": null,
   "metadata": {},
   "outputs": [],
   "source": [
    "n_patients"
   ]
  },
  {
   "cell_type": "markdown",
   "metadata": {},
   "source": [
    "Each row represents observations from a woman diagnosed with breast cancer that underwent a mastectomy.  The column `time` represents the time (in months) post-surgery that the woman was observed.  The column `event` indicates whether or not the woman died during the observation period.  The column `metastized` represents whether the cancer had [metastized](https://en.wikipedia.org/wiki/Metastatic_breast_cancer) prior to surgery.\n",
    "\n",
    "This tutorial analyzes the relationship between survival time post-mastectomy and whether or not the cancer had metastized."
   ]
  },
  {
   "cell_type": "markdown",
   "metadata": {},
   "source": [
    "#### A crash course in survival analysis\n",
    "\n",
    "First we introduce a (very little) bit of theory.  If the random variable $T$ is the time to the event we are studying, survival analysis is primarily concerned with the survival function\n",
    "\n",
    "$$S(t) = P(T > t) = 1 - F(t),$$\n",
    "\n",
    "where $F$ is the [CDF](https://en.wikipedia.org/wiki/Cumulative_distribution_function) of $T$.  It is mathematically convenient to express the survival function in terms of the [hazard rate](https://en.wikipedia.org/wiki/Survival_analysis#Hazard_function_and_cumulative_hazard_function), $\\lambda(t)$.  The hazard rate is the instantaneous probability that the event occurs at time $t$ given that it has not yet occured.  That is,\n",
    "\n",
    "$$\\begin{align*}\n",
    "\\lambda(t)\n",
    "    & = \\lim_{\\Delta t \\to 0} \\frac{P(t < T < t + \\Delta t\\ |\\ T > t)}{\\Delta t} \\\\\n",
    "    & = \\lim_{\\Delta t \\to 0} \\frac{P(t < T < t + \\Delta t)}{\\Delta t \\cdot P(T > t)} \\\\\n",
    "    & = \\frac{1}{S(t)} \\cdot \\lim_{\\Delta t \\to 0} \\frac{S(t + \\Delta t) - S(t)}{\\Delta t}\n",
    "      = -\\frac{S'(t)}{S(t)}.\n",
    "\\end{align*}$$\n",
    "\n",
    "Solving this differential equation for the survival function shows that\n",
    "\n",
    "$$S(t) = \\exp\\left(-\\int_0^s \\lambda(s)\\ ds\\right).$$\n",
    "\n",
    "This representation of the survival function shows that the cumulative hazard function\n",
    "\n",
    "$$\\Lambda(t) = \\int_0^t \\lambda(s)\\ ds$$\n",
    "\n",
    "is an important quantity in survival analysis, since we may consicesly write $S(t) = \\exp(-\\Lambda(t)).$\n",
    "\n",
    "An important, but subtle, point in survival analysis is [censoring](https://en.wikipedia.org/wiki/Survival_analysis#Censoring).  Even though the quantity we are interested in estimating is the time between surgery and death, we do not observe the death of every subject.  At the point in time that we perform our analysis, some of our subjects will thankfully still be alive. In the case of our mastectomy study, `df.event` is one if the subject's death was observed (the observation is not censored) and is zero if the death was not observed (the observation is censored)."
   ]
  },
  {
   "cell_type": "code",
   "execution_count": null,
   "metadata": {},
   "outputs": [],
   "source": [
    "df.event.mean()"
   ]
  },
  {
   "cell_type": "markdown",
   "metadata": {},
   "source": [
    "Just over 40% of our observations are censored.  We visualize the observed durations and indicate which observations are censored below."
   ]
  },
  {
   "cell_type": "code",
   "execution_count": null,
   "metadata": {},
   "outputs": [],
   "source": [
    "fig, ax = plt.subplots(figsize=(8, 6))\n",
    "\n",
    "blue, _, red = sns.color_palette()[:3]\n",
    "\n",
    "ax.hlines(patients[df.event.values == 0], 0, df[df.event.values == 0].time,\n",
    "          color=blue, label='Censored')\n",
    "\n",
    "ax.hlines(patients[df.event.values == 1], 0, df[df.event.values == 1].time,\n",
    "          color=red, label='Uncensored')\n",
    "\n",
    "ax.scatter(df[df.metastized.values == 1].time, patients[df.metastized.values == 1],\n",
    "           color='k', zorder=10, label='Metastized')\n",
    "\n",
    "ax.set_xlim(left=0)\n",
    "ax.set_xlabel('Months since mastectomy')\n",
    "ax.set_yticks([])\n",
    "ax.set_ylabel('Subject')\n",
    "\n",
    "ax.set_ylim(-0.25, n_patients + 0.25)\n",
    "\n",
    "ax.legend(loc='center right');"
   ]
  },
  {
   "cell_type": "markdown",
   "metadata": {},
   "source": [
    "When an observation is censored (`df.event` is zero), `df.time` is not the subject's survival time.  All we can conclude from such a censored obsevation is that the subject's true survival time exceeds `df.time`.\n",
    "\n",
    "This is enough basic surival analysis theory for the purposes of this tutorial; for a more extensive introduction, consult Aalen et al. (2008)."
   ]
  },
  {
   "cell_type": "markdown",
   "metadata": {},
   "source": [
    "#### Bayesian proportional hazards model\n",
    "\n",
    "The two most basic estimators in survial analysis are the [Kaplan-Meier estimator](https://en.wikipedia.org/wiki/Kaplan%E2%80%93Meier_estimator) of the survival function and the [Nelson-Aalen estimator](https://en.wikipedia.org/wiki/Nelson%E2%80%93Aalen_estimator) of the cumulative hazard function.  However, since we want to understand the impact of metastization on survival time, a risk regression model is more appropriate.  Perhaps the most commonly used risk regression model is [Cox's proportional hazards model](https://en.wikipedia.org/wiki/Proportional_hazards_model).  In this model, if we have covariates $\\mathbf{x}$ and regression coefficients $\\beta$, the hazard rate is modeled as\n",
    "\n",
    "$$\\lambda(t) = \\lambda_0(t) \\exp(\\mathbf{x} \\beta).$$\n",
    "\n",
    "Here $\\lambda_0(t)$ is the baseline hazard, which is independent of the covariates $\\mathbf{x}$.  In this example, the covariates are the one-dimensonal vector `df.metastized`.\n",
    "\n",
    "Unlike in many regression situations, $\\mathbf{x}$ should not include a constant term corresponding to an intercept.  If $\\mathbf{x}$ includes a constant term corresponding to an intercept, the model becomes [unidentifiable](https://en.wikipedia.org/wiki/Identifiability).  To illustrate this unidentifiability, suppose that\n",
    "\n",
    "$$\\lambda(t) = \\lambda_0(t) \\exp(\\beta_0 + \\mathbf{x} \\beta) = \\lambda_0(t) \\exp(\\beta_0) \\exp(\\mathbf{x} \\beta).$$\n",
    "\n",
    "If $\\tilde{\\beta}_0 = \\beta_0 + \\delta$ and $\\tilde{\\lambda}_0(t) = \\lambda_0(t) \\exp(-\\delta)$, then $\\lambda(t) = \\tilde{\\lambda}_0(t) \\exp(\\tilde{\\beta}_0 + \\mathbf{x} \\beta)$ as well, making the model with $\\beta_0$ unidentifiable.\n",
    "\n",
    "In order to perform Bayesian inference with the Cox model, we must specify priors on $\\beta$ and $\\lambda_0(t)$.  We place a normal prior on $\\beta$, $\\beta \\sim N(\\mu_{\\beta}, \\sigma_{\\beta}^2),$ where $\\mu_{\\beta} \\sim N(0, 10^2)$ and $\\sigma_{\\beta} \\sim U(0, 10)$.\n",
    "\n",
    "A suitable prior on $\\lambda_0(t)$ is less obvious.  We choose a semiparametric prior, where $\\lambda_0(t)$ is a piecewise constant function.  This prior requires us to partition the time range in question into intervals with endpoints $0 \\leq s_1 < s_2 < \\cdots < s_N$.  With this partition, $\\lambda_0 (t) = \\lambda_j$ if $s_j \\leq t < s_{j + 1}$.  With $\\lambda_0(t)$ constrained to have this form, all we need to do is choose priors for the $N - 1$ values $\\lambda_j$.  We use independent vague priors $\\lambda_j \\sim \\operatorname{Gamma}(10^{-2}, 10^{-2}).$  For our mastectomy example, we make each interval three months long."
   ]
  },
  {
   "cell_type": "code",
   "execution_count": null,
   "metadata": {},
   "outputs": [],
   "source": [
    "interval_length = 3\n",
    "interval_bounds = np.arange(0, df.time.max() + interval_length + 1, interval_length)\n",
    "n_intervals = interval_bounds.size - 1\n",
    "intervals = np.arange(n_intervals)"
   ]
  },
  {
   "cell_type": "markdown",
   "metadata": {},
   "source": [
    "We see how deaths and censored observations are distributed in these intervals."
   ]
  },
  {
   "cell_type": "code",
   "execution_count": null,
   "metadata": {},
   "outputs": [],
   "source": [
    "fig, ax = plt.subplots(figsize=(8, 6))\n",
    "\n",
    "ax.hist(df[df.event == 1].time.values, bins=interval_bounds,\n",
    "        color=red, alpha=0.5, lw=0,\n",
    "        label='Uncensored');\n",
    "ax.hist(df[df.event == 0].time.values, bins=interval_bounds,\n",
    "        color=blue, alpha=0.5, lw=0,\n",
    "        label='Censored');\n",
    "\n",
    "ax.set_xlim(0, interval_bounds[-1]);\n",
    "ax.set_xlabel('Months since mastectomy');\n",
    "\n",
    "ax.set_yticks([0, 1, 2, 3]);\n",
    "ax.set_ylabel('Number of observations');\n",
    "\n",
    "ax.legend();"
   ]
  },
  {
   "cell_type": "markdown",
   "metadata": {},
   "source": [
    "With the prior distributions on $\\beta$ and $\\lambda_0(t)$ chosen, we now show how the model may be fit using MCMC simulation with `pymc3`.  The key observation is that the piecewise-constant proportional hazard model is [closely related](http://data.princeton.edu/wws509/notes/c7s4.html) to a Poisson regression model.   (The models are not identical, but their likelihoods differ by a factor that depends only on the observed data and not the parameters $\\beta$ and $\\lambda_j$.  For details, see Germán Rodríguez's WWS 509 [course notes](http://data.princeton.edu/wws509/notes/c7s4.html).)\n",
    "\n",
    "We define indicator variables based on whether or the $i$-th suject died in the $j$-th interval,\n",
    "\n",
    "$$d_{i, j} = \\begin{cases}\n",
    "    1 & \\textrm{if subject } i \\textrm{ died in interval } j \\\\\n",
    "    0 & \\textrm{otherwise}\n",
    "\\end{cases}.$$"
   ]
  },
  {
   "cell_type": "code",
   "execution_count": null,
   "metadata": {},
   "outputs": [],
   "source": [
    "last_period = np.floor((df.time - 0.01) / interval_length).astype(int)\n",
    "\n",
    "death = np.zeros((n_patients, n_intervals))\n",
    "death[patients, last_period] = df.event"
   ]
  },
  {
   "cell_type": "markdown",
   "metadata": {},
   "source": [
    "We also define $t_{i, j}$ to be the amount of time the $i$-th subject was at risk in the $j$-th interval."
   ]
  },
  {
   "cell_type": "code",
   "execution_count": null,
   "metadata": {},
   "outputs": [],
   "source": [
    "exposure = np.greater_equal.outer(df.time, interval_bounds[:-1]) * interval_length\n",
    "exposure[patients, last_period] = df.time - interval_bounds[last_period]"
   ]
  },
  {
   "cell_type": "markdown",
   "metadata": {},
   "source": [
    "Finally, denote the risk incurred by the $i$-th subject in the $j$-th interval as $\\lambda_{i, j} = \\lambda_j \\exp(\\mathbf{x}_i \\beta)$.\n",
    "\n",
    "We may approximate $d_{i, j}$ with a Possion random variable with mean $t_{i, j}\\ \\lambda_{i, j}$.  This approximation leads to the following `pymc3` model."
   ]
  },
  {
   "cell_type": "code",
   "execution_count": null,
   "metadata": {},
   "outputs": [],
   "source": [
    "SEED = 5078864 # from random.org"
   ]
  },
  {
   "cell_type": "code",
   "execution_count": null,
   "metadata": {
    "scrolled": false
   },
   "outputs": [],
   "source": [
    "with pm.Model() as model:\n",
    "    \n",
    "    lambda0 = pm.Gamma('lambda0', 0.01, 0.01, shape=n_intervals)\n",
    "    \n",
    "    beta = pm.Normal('beta', 0, sd=1000)\n",
    "    \n",
    "    lambda_ = pm.Deterministic('lambda_', T.outer(T.exp(beta * df.metastized), lambda0))\n",
    "    mu = pm.Deterministic('mu', exposure * lambda_)\n",
    "    \n",
    "    obs = pm.Poisson('obs', mu, observed=death)"
   ]
  },
  {
   "cell_type": "markdown",
   "metadata": {},
   "source": [
    "We now sample from the model."
   ]
  },
  {
   "cell_type": "code",
   "execution_count": null,
   "metadata": {},
   "outputs": [],
   "source": [
    "n_samples = 1000\n",
    "n_tune = 1000"
   ]
  },
  {
   "cell_type": "code",
   "execution_count": null,
   "metadata": {
    "scrolled": false
   },
   "outputs": [],
   "source": [
    "with model:\n",
    "    trace = pm.sample(n_samples, tune=n_tune, random_seed=SEED)"
   ]
  },
  {
   "cell_type": "markdown",
   "metadata": {},
   "source": [
    "We see that the hazard rate for subjects whose cancer has metastized is about double the rate of those whose cancer has not metastized."
   ]
  },
  {
   "cell_type": "code",
   "execution_count": null,
   "metadata": {},
   "outputs": [],
   "source": [
    "np.exp(trace['beta'].mean())"
   ]
  },
  {
   "cell_type": "code",
   "execution_count": null,
   "metadata": {},
   "outputs": [],
   "source": [
    "pm.plot_posterior(trace, varnames=['beta'], color='#87ceeb');"
   ]
  },
  {
   "cell_type": "code",
   "execution_count": null,
   "metadata": {},
   "outputs": [],
   "source": [
    "pm.autocorrplot(trace, varnames=['beta']);"
   ]
  },
  {
   "cell_type": "markdown",
   "metadata": {},
   "source": [
    "We now examine the effect of metastization on both the cumulative hazard and on the survival function."
   ]
  },
  {
   "cell_type": "code",
   "execution_count": null,
   "metadata": {},
   "outputs": [],
   "source": [
    "base_hazard = trace['lambda0']\n",
    "met_hazard = trace['lambda0'] * np.exp(np.atleast_2d(trace['beta']).T)"
   ]
  },
  {
   "cell_type": "code",
   "execution_count": null,
   "metadata": {},
   "outputs": [],
   "source": [
    "def cum_hazard(hazard):\n",
    "    return (interval_length * hazard).cumsum(axis=-1)\n",
    "\n",
    "def survival(hazard):\n",
    "    return np.exp(-cum_hazard(hazard))"
   ]
  },
  {
   "cell_type": "code",
   "execution_count": null,
   "metadata": {},
   "outputs": [],
   "source": [
    "def plot_with_hpd(x, hazard, f, ax, color=None, label=None, alpha=0.05):\n",
    "    mean = f(hazard.mean(axis=0))\n",
    "    \n",
    "    percentiles = 100 * np.array([alpha / 2., 1. - alpha / 2.])\n",
    "    hpd = np.percentile(f(hazard), percentiles, axis=0)\n",
    "    \n",
    "    ax.fill_between(x, hpd[0], hpd[1], color=color, alpha=0.25)\n",
    "    ax.step(x, mean, color=color, label=label);"
   ]
  },
  {
   "cell_type": "code",
   "execution_count": null,
   "metadata": {},
   "outputs": [],
   "source": [
    "fig, (hazard_ax, surv_ax) = plt.subplots(ncols=2, sharex=True, sharey=False, figsize=(16, 6))\n",
    "\n",
    "plot_with_hpd(interval_bounds[:-1], base_hazard, cum_hazard,\n",
    "              hazard_ax, color=blue, label='Had not metastized')\n",
    "plot_with_hpd(interval_bounds[:-1], met_hazard, cum_hazard,\n",
    "              hazard_ax, color=red, label='Metastized')\n",
    "\n",
    "hazard_ax.set_xlim(0, df.time.max());\n",
    "hazard_ax.set_xlabel('Months since mastectomy');\n",
    "\n",
    "hazard_ax.set_ylabel(r'Cumulative hazard $\\Lambda(t)$');\n",
    "\n",
    "hazard_ax.legend(loc=2);\n",
    "\n",
    "plot_with_hpd(interval_bounds[:-1], base_hazard, survival,\n",
    "              surv_ax, color=blue)\n",
    "plot_with_hpd(interval_bounds[:-1], met_hazard, survival,\n",
    "              surv_ax, color=red)\n",
    "\n",
    "surv_ax.set_xlim(0, df.time.max());\n",
    "surv_ax.set_xlabel('Months since mastectomy');\n",
    "\n",
    "surv_ax.set_ylabel('Survival function $S(t)$');\n",
    "\n",
    "fig.suptitle('Bayesian survival model');"
   ]
  },
  {
   "cell_type": "markdown",
   "metadata": {},
   "source": [
    "We see that the cumulative hazard for metastized subjects increases more rapidly initially (through about seventy months), after which it increases roughly in parallel with the baseline cumulative hazard.\n",
    "\n",
    "These plots also show the pointwise 95% high posterior density interval for each function.  One of the distinct advantages of the Bayesian model fit with `pymc3` is the inherent quantification of uncertainty in our estimates."
   ]
  },
  {
   "cell_type": "markdown",
   "metadata": {},
   "source": [
    "##### Time varying effects\n",
    "\n",
    "Another of the advantages of the model we have built is its flexibility.  From the plots above, we may reasonable believe that the additional hazard due to metastization varies over time; it seems plausible that cancer that has metastized increases the hazard rate immediately after the mastectomy, but that the risk due to metastization decreases over time.  We can accomodate this mechanism in our model by allowing the regression coefficients to vary over time.  In the time-varying coefficent model, if $s_j \\leq t < s_{j + 1}$, we let $\\lambda(t) = \\lambda_j \\exp(\\mathbf{x} \\beta_j).$  The sequence of regression coefficients $\\beta_1, \\beta_2, \\ldots, \\beta_{N - 1}$ form a normal random walk with $\\beta_1 \\sim N(0, 1)$, $\\beta_j\\ |\\ \\beta_{j - 1} \\sim N(\\beta_{j - 1}, 1)$.\n",
    "\n",
    "We implement this model in `pymc3` as follows."
   ]
  },
  {
   "cell_type": "code",
   "execution_count": null,
   "metadata": {},
   "outputs": [],
   "source": [
    "with pm.Model() as time_varying_model:\n",
    "    \n",
    "    lambda0 = pm.Gamma('lambda0', 0.01, 0.01, shape=n_intervals)\n",
    "    beta = GaussianRandomWalk('beta', tau=1., shape=n_intervals)\n",
    "    \n",
    "    lambda_ = pm.Deterministic('h', lambda0 * T.exp(T.outer(T.constant(df.metastized), beta)))\n",
    "    mu = pm.Deterministic('mu', exposure * lambda_)\n",
    "    \n",
    "    obs = pm.Poisson('obs', mu, observed=death)"
   ]
  },
  {
   "cell_type": "markdown",
   "metadata": {},
   "source": [
    "We proceed to sample from this model."
   ]
  },
  {
   "cell_type": "code",
   "execution_count": null,
   "metadata": {},
   "outputs": [],
   "source": [
    "with time_varying_model:\n",
    "    time_varying_trace = pm.sample(n_samples, tune=n_tune, random_seed=SEED)"
   ]
  },
  {
   "cell_type": "code",
   "execution_count": null,
   "metadata": {},
   "outputs": [],
   "source": [
    "pm.forestplot(time_varying_trace, varnames=['beta']);"
   ]
  },
  {
   "cell_type": "markdown",
   "metadata": {},
   "source": [
    "We see from the plot of $\\beta_j$ over time below that initially $\\beta_j > 0$, indicating an elevated hazard rate due to metastization, but that this risk declines as $\\beta_j < 0$ eventually."
   ]
  },
  {
   "cell_type": "code",
   "execution_count": null,
   "metadata": {},
   "outputs": [],
   "source": [
    "fig, ax = plt.subplots(figsize=(8, 6))\n",
    "\n",
    "beta_hpd = np.percentile(time_varying_trace['beta'], [2.5, 97.5], axis=0)\n",
    "beta_low = beta_hpd[0]\n",
    "beta_high = beta_hpd[1]\n",
    "ax.fill_between(interval_bounds[:-1], beta_low, beta_high,\n",
    "                color=blue, alpha=0.25);\n",
    "beta_hat = time_varying_trace['beta'].mean(axis=0)\n",
    "ax.step(interval_bounds[:-1], beta_hat, color=blue);\n",
    "ax.scatter(interval_bounds[last_period[(df.event.values == 1) & (df.metastized == 1)]],\n",
    "           beta_hat[last_period[(df.event.values == 1) & (df.metastized == 1)]],\n",
    "           c=red, zorder=10, label='Died, cancer metastized');\n",
    "ax.scatter(interval_bounds[last_period[(df.event.values == 0) & (df.metastized == 1)]],\n",
    "           beta_hat[last_period[(df.event.values == 0) & (df.metastized == 1)]],\n",
    "           c=blue, zorder=10, label='Censored, cancer metastized');\n",
    "\n",
    "ax.set_xlim(0, df.time.max());\n",
    "ax.set_xlabel('Months since mastectomy');\n",
    "\n",
    "ax.set_ylabel(r'$\\beta_j$');\n",
    "\n",
    "ax.legend();"
   ]
  },
  {
   "cell_type": "markdown",
   "metadata": {},
   "source": [
    "The coefficients $\\beta_j$ begin declining rapidly around one hundred months post-mastectomy, which seems reasonable, given that only three of twelve subjects whose cancer had metastized lived past this point died during the study.\n",
    "\n",
    "The change in our estimate of the cumulative hazard and survival functions due to time-varying effects is also quite apparent in the following plots."
   ]
  },
  {
   "cell_type": "code",
   "execution_count": null,
   "metadata": {},
   "outputs": [],
   "source": [
    "tv_base_hazard = time_varying_trace['lambda0']\n",
    "tv_met_hazard = time_varying_trace['lambda0'] * np.exp(np.atleast_2d(time_varying_trace['beta']))"
   ]
  },
  {
   "cell_type": "code",
   "execution_count": null,
   "metadata": {},
   "outputs": [],
   "source": [
    "fig, ax = plt.subplots(figsize=(8, 6))\n",
    "\n",
    "ax.step(interval_bounds[:-1], cum_hazard(base_hazard.mean(axis=0)),\n",
    "        color=blue, label='Had not metastized');\n",
    "ax.step(interval_bounds[:-1], cum_hazard(met_hazard.mean(axis=0)),\n",
    "        color=red, label='Metastized');\n",
    "\n",
    "ax.step(interval_bounds[:-1], cum_hazard(tv_base_hazard.mean(axis=0)),\n",
    "        color=blue, linestyle='--', label='Had not metastized (time varying effect)');\n",
    "ax.step(interval_bounds[:-1], cum_hazard(tv_met_hazard.mean(axis=0)),\n",
    "        color=red, linestyle='--', label='Metastized (time varying effect)');\n",
    "\n",
    "ax.set_xlim(0, df.time.max() - 4);\n",
    "ax.set_xlabel('Months since mastectomy');\n",
    "\n",
    "ax.set_ylim(0, 2);\n",
    "ax.set_ylabel(r'Cumulative hazard $\\Lambda(t)$');\n",
    "\n",
    "ax.legend(loc=2);"
   ]
  },
  {
   "cell_type": "code",
   "execution_count": null,
   "metadata": {},
   "outputs": [],
   "source": [
    "fig, (hazard_ax, surv_ax) = plt.subplots(ncols=2, sharex=True, sharey=False, figsize=(16, 6))\n",
    "\n",
    "plot_with_hpd(interval_bounds[:-1], tv_base_hazard, cum_hazard,\n",
    "              hazard_ax, color=blue, label='Had not metastized')\n",
    "plot_with_hpd(interval_bounds[:-1], tv_met_hazard, cum_hazard,\n",
    "              hazard_ax, color=red, label='Metastized')\n",
    "\n",
    "hazard_ax.set_xlim(0, df.time.max());\n",
    "hazard_ax.set_xlabel('Months since mastectomy');\n",
    "\n",
    "hazard_ax.set_ylim(0, 2);\n",
    "hazard_ax.set_ylabel(r'Cumulative hazard $\\Lambda(t)$');\n",
    "\n",
    "hazard_ax.legend(loc=2);\n",
    "\n",
    "plot_with_hpd(interval_bounds[:-1], tv_base_hazard, survival,\n",
    "              surv_ax, color=blue)\n",
    "plot_with_hpd(interval_bounds[:-1], tv_met_hazard, survival,\n",
    "              surv_ax, color=red)\n",
    "\n",
    "surv_ax.set_xlim(0, df.time.max());\n",
    "surv_ax.set_xlabel('Months since mastectomy');\n",
    "\n",
    "surv_ax.set_ylabel('Survival function $S(t)$');\n",
    "\n",
    "fig.suptitle('Bayesian survival model with time varying effects');"
   ]
  },
  {
   "cell_type": "markdown",
   "metadata": {
    "collapsed": true
   },
   "source": [
    "We have really only scratched the surface of both survival analysis and the Bayesian approach to survival analysis.  More information on Bayesian survival analysis is available in Ibrahim et al. (2005).  (For example, we may want to account for individual frailty in either or original or time-varying models.)"
   ]
  }
 ],
 "metadata": {
  "anaconda-cloud": {},
  "kernelspec": {
   "display_name": "Python 3",
   "language": "python",
   "name": "python3"
  },
  "language_info": {
   "codemirror_mode": {
    "name": "ipython",
    "version": 3
   },
   "file_extension": ".py",
   "mimetype": "text/x-python",
   "name": "python",
   "nbconvert_exporter": "python",
   "pygments_lexer": "ipython3",
   "version": "3.6.1"
  }
 },
 "nbformat": 4,
 "nbformat_minor": 1
}
