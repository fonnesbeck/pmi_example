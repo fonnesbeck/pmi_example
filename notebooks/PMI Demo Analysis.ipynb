{
 "cells": [
  {
   "cell_type": "markdown",
   "metadata": {},
   "source": [
    "# PMI Demo Analysis\n",
    "\n",
    "This is a demonstration of a data analysis pipeline using a Jupyter notebook with simulated PMI data. The notebook is a dynamic, interactive data analysis environment where Python, R or other analytic code can be combined with descriptive text and graphics. The entire analysis, from data import to the display of results can be displayed in a single document, which can become a report in either PDF or HTML for distribution.\n",
    "\n",
    "The notebook demonstrates several things:\n",
    "\n",
    "- importing data from csv files\n",
    "- cleaning variables (converting them to numeric formats)\n",
    "- reshaping tables from long to wide format\n",
    "- merging two tables into a single table, with one patient per row\n",
    "- plotting histograms of numeric variables\n",
    "- imputing missing values\n",
    "- fitting a decision tree machine learning model to predict fatigue"
   ]
  },
  {
   "cell_type": "markdown",
   "metadata": {},
   "source": [
    "The analysis demonstrated here will be written in Python, but various languages can be supported by the notebooks.\n",
    "\n",
    "The cell below is code for importing various libraries from Python, and setting a few preferences."
   ]
  },
  {
   "cell_type": "code",
   "execution_count": 1,
   "metadata": {},
   "outputs": [],
   "source": [
    "%matplotlib inline\n",
    "import matplotlib.pyplot as plt\n",
    "import pandas as pd\n",
    "import numpy as np\n",
    "import seaborn as sns\n",
    "sns.set(style='ticks', palette='viridis')"
   ]
  },
  {
   "cell_type": "markdown",
   "metadata": {
    "inputHidden": false,
    "outputHidden": false
   },
   "source": [
    "## Import and clean data\n",
    "\n",
    "We will use a software package called `pandas` to import, clean, and manipulate the data. It can perform a variety of cleaning, transforming and reshaping tasks in just a few lines of code. \n",
    "\n",
    "The cell below imports a dataset containing patient observations that were simulated to represent PPI, and stored as text files. In production, data will likely be imported directly from a PMI data source, but the structure of the data will be similar.\n",
    "\n",
    "After importing we show the first few lines of data."
   ]
  },
  {
   "cell_type": "code",
   "execution_count": 2,
   "metadata": {},
   "outputs": [
    {
     "data": {
      "text/html": [
       "<div>\n",
       "<style>\n",
       "    .dataframe thead tr:only-child th {\n",
       "        text-align: right;\n",
       "    }\n",
       "\n",
       "    .dataframe thead th {\n",
       "        text-align: left;\n",
       "    }\n",
       "\n",
       "    .dataframe tbody tr th {\n",
       "        vertical-align: top;\n",
       "    }\n",
       "</style>\n",
       "<table border=\"1\" class=\"dataframe\">\n",
       "  <thead>\n",
       "    <tr style=\"text-align: right;\">\n",
       "      <th></th>\n",
       "      <th>observation_id</th>\n",
       "      <th>person_id</th>\n",
       "      <th>observation_concept_id</th>\n",
       "      <th>observation_date</th>\n",
       "      <th>observation_datetime</th>\n",
       "      <th>observation_type_concept_id</th>\n",
       "      <th>value_as_number</th>\n",
       "      <th>value_as_string</th>\n",
       "      <th>value_as_concept_id</th>\n",
       "      <th>qualifier_concept_id</th>\n",
       "      <th>unit_concept_id</th>\n",
       "      <th>provider_id</th>\n",
       "      <th>visit_occurrence_id</th>\n",
       "      <th>observation_source_value</th>\n",
       "      <th>observation_source_concept_id</th>\n",
       "      <th>unit_source_value</th>\n",
       "      <th>qualifier_source_value</th>\n",
       "      <th>value_source_concept_id</th>\n",
       "      <th>value_source_value</th>\n",
       "      <th>questionnaire_response_id</th>\n",
       "    </tr>\n",
       "  </thead>\n",
       "  <tbody>\n",
       "    <tr>\n",
       "      <th>0</th>\n",
       "      <td>1</td>\n",
       "      <td>100011931</td>\n",
       "      <td>0</td>\n",
       "      <td>2012-08-10</td>\n",
       "      <td>2012-08-10 16:42:56</td>\n",
       "      <td>45905771</td>\n",
       "      <td>NaN</td>\n",
       "      <td>Severe</td>\n",
       "      <td>0</td>\n",
       "      <td>0</td>\n",
       "      <td>0</td>\n",
       "      <td>NaN</td>\n",
       "      <td>NaN</td>\n",
       "      <td>OverallHealth_AverageFatigue7Days</td>\n",
       "      <td>1585748</td>\n",
       "      <td>NaN</td>\n",
       "      <td>NaN</td>\n",
       "      <td>1585752</td>\n",
       "      <td>AverageFatigue7Days_Severe</td>\n",
       "      <td>438336969.0</td>\n",
       "    </tr>\n",
       "    <tr>\n",
       "      <th>1</th>\n",
       "      <td>2</td>\n",
       "      <td>100011931</td>\n",
       "      <td>0</td>\n",
       "      <td>2012-08-10</td>\n",
       "      <td>2012-08-10 16:42:56</td>\n",
       "      <td>45905771</td>\n",
       "      <td>3.0</td>\n",
       "      <td>NaN</td>\n",
       "      <td>0</td>\n",
       "      <td>0</td>\n",
       "      <td>0</td>\n",
       "      <td>NaN</td>\n",
       "      <td>NaN</td>\n",
       "      <td>OverallHealth_AveragePain7Days</td>\n",
       "      <td>1585747</td>\n",
       "      <td>NaN</td>\n",
       "      <td>NaN</td>\n",
       "      <td>0</td>\n",
       "      <td>NaN</td>\n",
       "      <td>438336969.0</td>\n",
       "    </tr>\n",
       "    <tr>\n",
       "      <th>2</th>\n",
       "      <td>3</td>\n",
       "      <td>100011931</td>\n",
       "      <td>0</td>\n",
       "      <td>2012-08-10</td>\n",
       "      <td>2012-08-10 16:42:56</td>\n",
       "      <td>45905771</td>\n",
       "      <td>NaN</td>\n",
       "      <td>Sometimes</td>\n",
       "      <td>0</td>\n",
       "      <td>0</td>\n",
       "      <td>0</td>\n",
       "      <td>NaN</td>\n",
       "      <td>NaN</td>\n",
       "      <td>OverallHealth_DifficultUnderstandInfo</td>\n",
       "      <td>1585778</td>\n",
       "      <td>NaN</td>\n",
       "      <td>NaN</td>\n",
       "      <td>1585781</td>\n",
       "      <td>DifficultUnderstandInfo_Sometimes</td>\n",
       "      <td>438336969.0</td>\n",
       "    </tr>\n",
       "    <tr>\n",
       "      <th>3</th>\n",
       "      <td>4</td>\n",
       "      <td>100011931</td>\n",
       "      <td>0</td>\n",
       "      <td>2012-08-10</td>\n",
       "      <td>2012-08-10 16:42:56</td>\n",
       "      <td>45905771</td>\n",
       "      <td>NaN</td>\n",
       "      <td>Often</td>\n",
       "      <td>0</td>\n",
       "      <td>0</td>\n",
       "      <td>0</td>\n",
       "      <td>NaN</td>\n",
       "      <td>NaN</td>\n",
       "      <td>OverallHealth_EmotionalProblem7Days</td>\n",
       "      <td>1585760</td>\n",
       "      <td>NaN</td>\n",
       "      <td>NaN</td>\n",
       "      <td>1585764</td>\n",
       "      <td>EmotionalProblem7Days_Often</td>\n",
       "      <td>438336969.0</td>\n",
       "    </tr>\n",
       "    <tr>\n",
       "      <th>4</th>\n",
       "      <td>5</td>\n",
       "      <td>100011931</td>\n",
       "      <td>0</td>\n",
       "      <td>2012-08-10</td>\n",
       "      <td>2012-08-10 16:42:56</td>\n",
       "      <td>45905771</td>\n",
       "      <td>NaN</td>\n",
       "      <td>A Little</td>\n",
       "      <td>0</td>\n",
       "      <td>0</td>\n",
       "      <td>0</td>\n",
       "      <td>NaN</td>\n",
       "      <td>NaN</td>\n",
       "      <td>OverallHealth_EverydayActivities</td>\n",
       "      <td>1585741</td>\n",
       "      <td>NaN</td>\n",
       "      <td>NaN</td>\n",
       "      <td>1585745</td>\n",
       "      <td>EverydayActivities_ALittle</td>\n",
       "      <td>438336969.0</td>\n",
       "    </tr>\n",
       "  </tbody>\n",
       "</table>\n",
       "</div>"
      ],
      "text/plain": [
       "   observation_id  person_id  observation_concept_id observation_date  \\\n",
       "0               1  100011931                       0       2012-08-10   \n",
       "1               2  100011931                       0       2012-08-10   \n",
       "2               3  100011931                       0       2012-08-10   \n",
       "3               4  100011931                       0       2012-08-10   \n",
       "4               5  100011931                       0       2012-08-10   \n",
       "\n",
       "  observation_datetime  observation_type_concept_id  value_as_number  \\\n",
       "0  2012-08-10 16:42:56                     45905771              NaN   \n",
       "1  2012-08-10 16:42:56                     45905771              3.0   \n",
       "2  2012-08-10 16:42:56                     45905771              NaN   \n",
       "3  2012-08-10 16:42:56                     45905771              NaN   \n",
       "4  2012-08-10 16:42:56                     45905771              NaN   \n",
       "\n",
       "  value_as_string  value_as_concept_id  qualifier_concept_id  unit_concept_id  \\\n",
       "0          Severe                    0                     0                0   \n",
       "1             NaN                    0                     0                0   \n",
       "2       Sometimes                    0                     0                0   \n",
       "3           Often                    0                     0                0   \n",
       "4        A Little                    0                     0                0   \n",
       "\n",
       "   provider_id  visit_occurrence_id               observation_source_value  \\\n",
       "0          NaN                  NaN      OverallHealth_AverageFatigue7Days   \n",
       "1          NaN                  NaN         OverallHealth_AveragePain7Days   \n",
       "2          NaN                  NaN  OverallHealth_DifficultUnderstandInfo   \n",
       "3          NaN                  NaN    OverallHealth_EmotionalProblem7Days   \n",
       "4          NaN                  NaN       OverallHealth_EverydayActivities   \n",
       "\n",
       "   observation_source_concept_id  unit_source_value  qualifier_source_value  \\\n",
       "0                        1585748                NaN                     NaN   \n",
       "1                        1585747                NaN                     NaN   \n",
       "2                        1585778                NaN                     NaN   \n",
       "3                        1585760                NaN                     NaN   \n",
       "4                        1585741                NaN                     NaN   \n",
       "\n",
       "   value_source_concept_id                 value_source_value  \\\n",
       "0                  1585752         AverageFatigue7Days_Severe   \n",
       "1                        0                                NaN   \n",
       "2                  1585781  DifficultUnderstandInfo_Sometimes   \n",
       "3                  1585764        EmotionalProblem7Days_Often   \n",
       "4                  1585745         EverydayActivities_ALittle   \n",
       "\n",
       "   questionnaire_response_id  \n",
       "0                438336969.0  \n",
       "1                438336969.0  \n",
       "2                438336969.0  \n",
       "3                438336969.0  \n",
       "4                438336969.0  "
      ]
     },
     "execution_count": 2,
     "metadata": {},
     "output_type": "execute_result"
    }
   ],
   "source": [
    "observation_data = pd.read_csv('../data/test_etl_6/test_etl_6-observation.csv', \n",
    "                               low_memory=False)\n",
    "observation_data.head()"
   ]
  },
  {
   "cell_type": "markdown",
   "metadata": {},
   "source": [
    "We can display properties of the dataset, such as its shape. The two numbers below show the number of rows and columns in the table; there are well **over a million rows** of simulated data here."
   ]
  },
  {
   "cell_type": "code",
   "execution_count": 3,
   "metadata": {},
   "outputs": [
    {
     "data": {
      "text/plain": [
       "(1192848, 20)"
      ]
     },
     "execution_count": 3,
     "metadata": {},
     "output_type": "execute_result"
    }
   ],
   "source": [
    "observation_data.shape"
   ]
  },
  {
   "cell_type": "markdown",
   "metadata": {},
   "source": [
    "We can also import a table of *measurements* corresponding to a subset of patients. Further along in the data manipulation pipeline, we can merge these with the previous dataset."
   ]
  },
  {
   "cell_type": "code",
   "execution_count": 4,
   "metadata": {
    "inputHidden": false,
    "outputHidden": false
   },
   "outputs": [
    {
     "data": {
      "text/html": [
       "<div>\n",
       "<style>\n",
       "    .dataframe thead tr:only-child th {\n",
       "        text-align: right;\n",
       "    }\n",
       "\n",
       "    .dataframe thead th {\n",
       "        text-align: left;\n",
       "    }\n",
       "\n",
       "    .dataframe tbody tr th {\n",
       "        vertical-align: top;\n",
       "    }\n",
       "</style>\n",
       "<table border=\"1\" class=\"dataframe\">\n",
       "  <thead>\n",
       "    <tr style=\"text-align: right;\">\n",
       "      <th></th>\n",
       "      <th>measurement_id</th>\n",
       "      <th>person_id</th>\n",
       "      <th>measurement_concept_id</th>\n",
       "      <th>measurement_date</th>\n",
       "      <th>measurement_datetime</th>\n",
       "      <th>measurement_type_concept_id</th>\n",
       "      <th>operator_concept_id</th>\n",
       "      <th>value_as_number</th>\n",
       "      <th>value_as_concept_id</th>\n",
       "      <th>unit_concept_id</th>\n",
       "      <th>range_low</th>\n",
       "      <th>range_high</th>\n",
       "      <th>provider_id</th>\n",
       "      <th>visit_occurrence_id</th>\n",
       "      <th>measurement_source_value</th>\n",
       "      <th>measurement_source_concept_id</th>\n",
       "      <th>unit_source_value</th>\n",
       "      <th>value_source_value</th>\n",
       "    </tr>\n",
       "  </thead>\n",
       "  <tbody>\n",
       "    <tr>\n",
       "      <th>0</th>\n",
       "      <td>1</td>\n",
       "      <td>100276412</td>\n",
       "      <td>0</td>\n",
       "      <td>2014-03-05</td>\n",
       "      <td>2014-03-05 21:03:17</td>\n",
       "      <td>44818701</td>\n",
       "      <td>0</td>\n",
       "      <td>66.199997</td>\n",
       "      <td>0</td>\n",
       "      <td>9529</td>\n",
       "      <td>NaN</td>\n",
       "      <td>NaN</td>\n",
       "      <td>NaN</td>\n",
       "      <td>1</td>\n",
       "      <td>pre-pregnancy-weight</td>\n",
       "      <td>0</td>\n",
       "      <td>kg</td>\n",
       "      <td>66.2 - kg</td>\n",
       "    </tr>\n",
       "    <tr>\n",
       "      <th>1</th>\n",
       "      <td>2</td>\n",
       "      <td>100276412</td>\n",
       "      <td>3004249</td>\n",
       "      <td>2014-03-05</td>\n",
       "      <td>2014-03-05 21:03:17</td>\n",
       "      <td>44818701</td>\n",
       "      <td>0</td>\n",
       "      <td>136.000000</td>\n",
       "      <td>0</td>\n",
       "      <td>8876</td>\n",
       "      <td>NaN</td>\n",
       "      <td>NaN</td>\n",
       "      <td>NaN</td>\n",
       "      <td>1</td>\n",
       "      <td>8480-6</td>\n",
       "      <td>3004249</td>\n",
       "      <td>mm[Hg]</td>\n",
       "      <td>136 - mm[Hg]</td>\n",
       "    </tr>\n",
       "    <tr>\n",
       "      <th>2</th>\n",
       "      <td>3</td>\n",
       "      <td>100276412</td>\n",
       "      <td>3012888</td>\n",
       "      <td>2014-03-05</td>\n",
       "      <td>2014-03-05 21:03:17</td>\n",
       "      <td>44818701</td>\n",
       "      <td>0</td>\n",
       "      <td>64.000000</td>\n",
       "      <td>0</td>\n",
       "      <td>8876</td>\n",
       "      <td>NaN</td>\n",
       "      <td>NaN</td>\n",
       "      <td>NaN</td>\n",
       "      <td>1</td>\n",
       "      <td>8462-4</td>\n",
       "      <td>3012888</td>\n",
       "      <td>mm[Hg]</td>\n",
       "      <td>64 - mm[Hg]</td>\n",
       "    </tr>\n",
       "    <tr>\n",
       "      <th>3</th>\n",
       "      <td>4</td>\n",
       "      <td>100276412</td>\n",
       "      <td>3025315</td>\n",
       "      <td>2014-03-05</td>\n",
       "      <td>2014-03-05 21:03:17</td>\n",
       "      <td>44818701</td>\n",
       "      <td>0</td>\n",
       "      <td>41.099998</td>\n",
       "      <td>0</td>\n",
       "      <td>9529</td>\n",
       "      <td>NaN</td>\n",
       "      <td>NaN</td>\n",
       "      <td>NaN</td>\n",
       "      <td>1</td>\n",
       "      <td>29463-7</td>\n",
       "      <td>3025315</td>\n",
       "      <td>kg</td>\n",
       "      <td>41.1 - kg</td>\n",
       "    </tr>\n",
       "    <tr>\n",
       "      <th>4</th>\n",
       "      <td>5</td>\n",
       "      <td>100276412</td>\n",
       "      <td>3027018</td>\n",
       "      <td>2014-03-05</td>\n",
       "      <td>2014-03-05 21:03:17</td>\n",
       "      <td>44818701</td>\n",
       "      <td>0</td>\n",
       "      <td>68.000000</td>\n",
       "      <td>0</td>\n",
       "      <td>8541</td>\n",
       "      <td>NaN</td>\n",
       "      <td>NaN</td>\n",
       "      <td>NaN</td>\n",
       "      <td>1</td>\n",
       "      <td>8867-4</td>\n",
       "      <td>3027018</td>\n",
       "      <td>/min</td>\n",
       "      <td>68 - /min</td>\n",
       "    </tr>\n",
       "  </tbody>\n",
       "</table>\n",
       "</div>"
      ],
      "text/plain": [
       "   measurement_id  person_id  measurement_concept_id measurement_date  \\\n",
       "0               1  100276412                       0       2014-03-05   \n",
       "1               2  100276412                 3004249       2014-03-05   \n",
       "2               3  100276412                 3012888       2014-03-05   \n",
       "3               4  100276412                 3025315       2014-03-05   \n",
       "4               5  100276412                 3027018       2014-03-05   \n",
       "\n",
       "  measurement_datetime  measurement_type_concept_id  operator_concept_id  \\\n",
       "0  2014-03-05 21:03:17                     44818701                    0   \n",
       "1  2014-03-05 21:03:17                     44818701                    0   \n",
       "2  2014-03-05 21:03:17                     44818701                    0   \n",
       "3  2014-03-05 21:03:17                     44818701                    0   \n",
       "4  2014-03-05 21:03:17                     44818701                    0   \n",
       "\n",
       "   value_as_number  value_as_concept_id  unit_concept_id  range_low  \\\n",
       "0        66.199997                    0             9529        NaN   \n",
       "1       136.000000                    0             8876        NaN   \n",
       "2        64.000000                    0             8876        NaN   \n",
       "3        41.099998                    0             9529        NaN   \n",
       "4        68.000000                    0             8541        NaN   \n",
       "\n",
       "   range_high  provider_id  visit_occurrence_id measurement_source_value  \\\n",
       "0         NaN          NaN                    1     pre-pregnancy-weight   \n",
       "1         NaN          NaN                    1                   8480-6   \n",
       "2         NaN          NaN                    1                   8462-4   \n",
       "3         NaN          NaN                    1                  29463-7   \n",
       "4         NaN          NaN                    1                   8867-4   \n",
       "\n",
       "   measurement_source_concept_id unit_source_value value_source_value  \n",
       "0                              0                kg          66.2 - kg  \n",
       "1                        3004249            mm[Hg]       136 - mm[Hg]  \n",
       "2                        3012888            mm[Hg]        64 - mm[Hg]  \n",
       "3                        3025315                kg          41.1 - kg  \n",
       "4                        3027018              /min          68 - /min  "
      ]
     },
     "execution_count": 4,
     "metadata": {},
     "output_type": "execute_result"
    }
   ],
   "source": [
    "measurement_data = pd.read_csv('../data/test_etl_6/test_etl_6-measurement.csv', \n",
    "                               low_memory=False).dropna(subset=['value_source_value'])\n",
    "measurement_data.head()"
   ]
  },
  {
   "cell_type": "markdown",
   "metadata": {},
   "source": [
    "We can get a quick summary of the different data values in a particular column by calling `value_counts` on it. For example, looking at the `measurement_source_value` column, we can see that it is a mixture of data labels and codes."
   ]
  },
  {
   "cell_type": "code",
   "execution_count": 5,
   "metadata": {},
   "outputs": [
    {
     "data": {
      "text/plain": [
       "8302-2                     6803\n",
       "8867-4                     6768\n",
       "wheelchair-bound-status    6767\n",
       "29463-7                    6750\n",
       "pre-pregnancy-weight       6747\n",
       "39156-5                    6709\n",
       "8480-6                     6078\n",
       "8462-4                     6051\n",
       "Name: measurement_source_value, dtype: int64"
      ]
     },
     "execution_count": 5,
     "metadata": {},
     "output_type": "execute_result"
    }
   ],
   "source": [
    "measurement_data.measurement_source_value.value_counts()"
   ]
  },
  {
   "cell_type": "markdown",
   "metadata": {},
   "source": [
    "So, we might want to convert codes in measurement table to variable labels, so that they are easy to identify. We first create a *lookup table* for codes and corresponding labels, then use the `replace` method to swap the codes for the lables in the column of data."
   ]
  },
  {
   "cell_type": "code",
   "execution_count": 6,
   "metadata": {
    "inputHidden": false,
    "outputHidden": false
   },
   "outputs": [],
   "source": [
    "code_lookup = {'29463-7':'body_weight',\n",
    "              '8302-2':'height',\n",
    "              '8867-4':'heart_rate',\n",
    "              '55284-4':'blood_pressure',\n",
    "              '39156-5':'bmi',\n",
    "              '8480-6':'systolic_bp',\n",
    "              '8462-4':'diastolic_bp'}\n",
    "\n",
    "measurement_data['measurement'] = measurement_data.measurement_source_value.replace(code_lookup)"
   ]
  },
  {
   "cell_type": "markdown",
   "metadata": {},
   "source": [
    "If we look at the `value_counts` now, it is easier to see what the counts represent."
   ]
  },
  {
   "cell_type": "code",
   "execution_count": 7,
   "metadata": {},
   "outputs": [
    {
     "data": {
      "text/plain": [
       "height                     6803\n",
       "heart_rate                 6768\n",
       "wheelchair-bound-status    6767\n",
       "body_weight                6750\n",
       "pre-pregnancy-weight       6747\n",
       "bmi                        6709\n",
       "systolic_bp                6078\n",
       "diastolic_bp               6051\n",
       "Name: measurement, dtype: int64"
      ]
     },
     "execution_count": 7,
     "metadata": {},
     "output_type": "execute_result"
    }
   ],
   "source": [
    "measurement_data.measurement.value_counts()"
   ]
  },
  {
   "cell_type": "markdown",
   "metadata": {},
   "source": [
    "Data in the measurement table is in **long** format, meaning that there is a row for each measurement, and multiple measurements for each patient. But we require **wide** format for statistical analyses, where there is one row per patient, and various columns of measurements. \n",
    "\n",
    "We can *pivot* the variable column by creating a pandas `MultiIndex` and unstacking the last level."
   ]
  },
  {
   "cell_type": "code",
   "execution_count": 8,
   "metadata": {
    "inputHidden": false,
    "outputHidden": false
   },
   "outputs": [],
   "source": [
    "measurements = (measurement_data.set_index(['person_id', 'measurement_date','measurement'])\n",
    "                .value_source_value\n",
    "                .unstack(level=-1))"
   ]
  },
  {
   "cell_type": "markdown",
   "metadata": {},
   "source": [
    "Now look at the table:"
   ]
  },
  {
   "cell_type": "code",
   "execution_count": 9,
   "metadata": {
    "inputHidden": false,
    "outputHidden": false
   },
   "outputs": [
    {
     "data": {
      "text/html": [
       "<div>\n",
       "<style>\n",
       "    .dataframe thead tr:only-child th {\n",
       "        text-align: right;\n",
       "    }\n",
       "\n",
       "    .dataframe thead th {\n",
       "        text-align: left;\n",
       "    }\n",
       "\n",
       "    .dataframe tbody tr th {\n",
       "        vertical-align: top;\n",
       "    }\n",
       "</style>\n",
       "<table border=\"1\" class=\"dataframe\">\n",
       "  <thead>\n",
       "    <tr style=\"text-align: right;\">\n",
       "      <th></th>\n",
       "      <th>measurement</th>\n",
       "      <th>bmi</th>\n",
       "      <th>body_weight</th>\n",
       "      <th>diastolic_bp</th>\n",
       "      <th>heart_rate</th>\n",
       "      <th>height</th>\n",
       "      <th>pre-pregnancy-weight</th>\n",
       "      <th>systolic_bp</th>\n",
       "      <th>wheelchair-bound-status</th>\n",
       "    </tr>\n",
       "    <tr>\n",
       "      <th>person_id</th>\n",
       "      <th>measurement_date</th>\n",
       "      <th></th>\n",
       "      <th></th>\n",
       "      <th></th>\n",
       "      <th></th>\n",
       "      <th></th>\n",
       "      <th></th>\n",
       "      <th></th>\n",
       "      <th></th>\n",
       "    </tr>\n",
       "  </thead>\n",
       "  <tbody>\n",
       "    <tr>\n",
       "      <th>100276412</th>\n",
       "      <th>2014-03-05</th>\n",
       "      <td>418 - kg/m2</td>\n",
       "      <td>41.1 - kg</td>\n",
       "      <td>64 - mm[Hg]</td>\n",
       "      <td>68 - /min</td>\n",
       "      <td>150 - cm</td>\n",
       "      <td>66.2 - kg</td>\n",
       "      <td>136 - mm[Hg]</td>\n",
       "      <td>wheelchair-bound</td>\n",
       "    </tr>\n",
       "    <tr>\n",
       "      <th>100281317</th>\n",
       "      <th>2015-04-13</th>\n",
       "      <td>199 - kg/m2</td>\n",
       "      <td>57.3 - kg</td>\n",
       "      <td>109 - mm[Hg]</td>\n",
       "      <td>115 - /min</td>\n",
       "      <td>66.3 - cm</td>\n",
       "      <td>75.5 - kg</td>\n",
       "      <td>98 - mm[Hg]</td>\n",
       "      <td>None</td>\n",
       "    </tr>\n",
       "    <tr>\n",
       "      <th>100347387</th>\n",
       "      <th>2014-01-18</th>\n",
       "      <td>316.9 - kg/m2</td>\n",
       "      <td>51.1 - kg</td>\n",
       "      <td>103 - mm[Hg]</td>\n",
       "      <td>46 - /min</td>\n",
       "      <td>80.5 - cm</td>\n",
       "      <td>100.9 - kg</td>\n",
       "      <td>124 - mm[Hg]</td>\n",
       "      <td>wheelchair-bound</td>\n",
       "    </tr>\n",
       "    <tr>\n",
       "      <th>100444746</th>\n",
       "      <th>2016-11-28</th>\n",
       "      <td>360.3 - kg/m2</td>\n",
       "      <td>174.9 - kg</td>\n",
       "      <td>120 - mm[Hg]</td>\n",
       "      <td>62 - /min</td>\n",
       "      <td>79.5 - cm</td>\n",
       "      <td>57.7 - kg</td>\n",
       "      <td>158 - mm[Hg]</td>\n",
       "      <td>wheelchair-bound</td>\n",
       "    </tr>\n",
       "    <tr>\n",
       "      <th>100562058</th>\n",
       "      <th>2017-10-03</th>\n",
       "      <td>None</td>\n",
       "      <td>86.6 - kg</td>\n",
       "      <td>52 - mm[Hg]</td>\n",
       "      <td>None</td>\n",
       "      <td>63 - cm</td>\n",
       "      <td>87.8 - kg</td>\n",
       "      <td>177 - mm[Hg]</td>\n",
       "      <td>wheelchair-bound</td>\n",
       "    </tr>\n",
       "  </tbody>\n",
       "</table>\n",
       "</div>"
      ],
      "text/plain": [
       "measurement                           bmi body_weight  diastolic_bp  \\\n",
       "person_id measurement_date                                            \n",
       "100276412 2014-03-05          418 - kg/m2   41.1 - kg   64 - mm[Hg]   \n",
       "100281317 2015-04-13          199 - kg/m2   57.3 - kg  109 - mm[Hg]   \n",
       "100347387 2014-01-18        316.9 - kg/m2   51.1 - kg  103 - mm[Hg]   \n",
       "100444746 2016-11-28        360.3 - kg/m2  174.9 - kg  120 - mm[Hg]   \n",
       "100562058 2017-10-03                 None   86.6 - kg   52 - mm[Hg]   \n",
       "\n",
       "measurement                 heart_rate     height pre-pregnancy-weight  \\\n",
       "person_id measurement_date                                               \n",
       "100276412 2014-03-05         68 - /min   150 - cm            66.2 - kg   \n",
       "100281317 2015-04-13        115 - /min  66.3 - cm            75.5 - kg   \n",
       "100347387 2014-01-18         46 - /min  80.5 - cm           100.9 - kg   \n",
       "100444746 2016-11-28         62 - /min  79.5 - cm            57.7 - kg   \n",
       "100562058 2017-10-03              None    63 - cm            87.8 - kg   \n",
       "\n",
       "measurement                  systolic_bp wheelchair-bound-status  \n",
       "person_id measurement_date                                        \n",
       "100276412 2014-03-05        136 - mm[Hg]        wheelchair-bound  \n",
       "100281317 2015-04-13         98 - mm[Hg]                    None  \n",
       "100347387 2014-01-18        124 - mm[Hg]        wheelchair-bound  \n",
       "100444746 2016-11-28        158 - mm[Hg]        wheelchair-bound  \n",
       "100562058 2017-10-03        177 - mm[Hg]        wheelchair-bound  "
      ]
     },
     "execution_count": 9,
     "metadata": {},
     "output_type": "execute_result"
    }
   ],
   "source": [
    "measurements.head()"
   ]
  },
  {
   "cell_type": "markdown",
   "metadata": {
    "inputHidden": false,
    "outputHidden": false
   },
   "source": [
    "However, notice that the values include the units, making then non-numeric. So we need to strip redundant units from numeric value column and cast the digits to floats.\n",
    "\n",
    "This is an example of a complex data transformation using `pandas`. The following steps are performed all in one line of code:\n",
    "\n",
    "- split each element in the data cells on the dash (`-`) character\n",
    "- use an underscore character to represent missing data\n",
    "- extract the element before the dash in each data item (*i.e.* the numeric value)\n",
    "- replace the underscores with a missing data value (nan)\n",
    "- set the data type to a floating-point numeric type"
   ]
  },
  {
   "cell_type": "code",
   "execution_count": 10,
   "metadata": {
    "inputHidden": false,
    "outputHidden": false
   },
   "outputs": [],
   "source": [
    "measurements[measurements.columns[:-1]] = (measurements[measurements.columns[:-1]]\n",
    "                                    .apply(lambda x: x.str.split(' - '))\n",
    "                                    .fillna('_')\n",
    "                                    .applymap(lambda x: x[0])\n",
    "                                    .replace({'_': np.nan})\n",
    "                                    .astype(float))"
   ]
  },
  {
   "cell_type": "markdown",
   "metadata": {},
   "source": [
    "Though it may not be obvious why each step was required, you can see below that the data are now indeed numeric, and can be used in a statistical analysis."
   ]
  },
  {
   "cell_type": "code",
   "execution_count": 11,
   "metadata": {
    "inputHidden": false,
    "outputHidden": false
   },
   "outputs": [
    {
     "data": {
      "text/html": [
       "<div>\n",
       "<style>\n",
       "    .dataframe thead tr:only-child th {\n",
       "        text-align: right;\n",
       "    }\n",
       "\n",
       "    .dataframe thead th {\n",
       "        text-align: left;\n",
       "    }\n",
       "\n",
       "    .dataframe tbody tr th {\n",
       "        vertical-align: top;\n",
       "    }\n",
       "</style>\n",
       "<table border=\"1\" class=\"dataframe\">\n",
       "  <thead>\n",
       "    <tr style=\"text-align: right;\">\n",
       "      <th></th>\n",
       "      <th>measurement</th>\n",
       "      <th>bmi</th>\n",
       "      <th>body_weight</th>\n",
       "      <th>diastolic_bp</th>\n",
       "      <th>heart_rate</th>\n",
       "      <th>height</th>\n",
       "      <th>pre-pregnancy-weight</th>\n",
       "      <th>systolic_bp</th>\n",
       "      <th>wheelchair-bound-status</th>\n",
       "    </tr>\n",
       "    <tr>\n",
       "      <th>person_id</th>\n",
       "      <th>measurement_date</th>\n",
       "      <th></th>\n",
       "      <th></th>\n",
       "      <th></th>\n",
       "      <th></th>\n",
       "      <th></th>\n",
       "      <th></th>\n",
       "      <th></th>\n",
       "      <th></th>\n",
       "    </tr>\n",
       "  </thead>\n",
       "  <tbody>\n",
       "    <tr>\n",
       "      <th>100276412</th>\n",
       "      <th>2014-03-05</th>\n",
       "      <td>418.0</td>\n",
       "      <td>41.1</td>\n",
       "      <td>64.0</td>\n",
       "      <td>68.0</td>\n",
       "      <td>150.0</td>\n",
       "      <td>66.2</td>\n",
       "      <td>136.0</td>\n",
       "      <td>wheelchair-bound</td>\n",
       "    </tr>\n",
       "    <tr>\n",
       "      <th>100281317</th>\n",
       "      <th>2015-04-13</th>\n",
       "      <td>199.0</td>\n",
       "      <td>57.3</td>\n",
       "      <td>109.0</td>\n",
       "      <td>115.0</td>\n",
       "      <td>66.3</td>\n",
       "      <td>75.5</td>\n",
       "      <td>98.0</td>\n",
       "      <td>None</td>\n",
       "    </tr>\n",
       "    <tr>\n",
       "      <th>100347387</th>\n",
       "      <th>2014-01-18</th>\n",
       "      <td>316.9</td>\n",
       "      <td>51.1</td>\n",
       "      <td>103.0</td>\n",
       "      <td>46.0</td>\n",
       "      <td>80.5</td>\n",
       "      <td>100.9</td>\n",
       "      <td>124.0</td>\n",
       "      <td>wheelchair-bound</td>\n",
       "    </tr>\n",
       "    <tr>\n",
       "      <th>100444746</th>\n",
       "      <th>2016-11-28</th>\n",
       "      <td>360.3</td>\n",
       "      <td>174.9</td>\n",
       "      <td>120.0</td>\n",
       "      <td>62.0</td>\n",
       "      <td>79.5</td>\n",
       "      <td>57.7</td>\n",
       "      <td>158.0</td>\n",
       "      <td>wheelchair-bound</td>\n",
       "    </tr>\n",
       "    <tr>\n",
       "      <th>100562058</th>\n",
       "      <th>2017-10-03</th>\n",
       "      <td>NaN</td>\n",
       "      <td>86.6</td>\n",
       "      <td>52.0</td>\n",
       "      <td>NaN</td>\n",
       "      <td>63.0</td>\n",
       "      <td>87.8</td>\n",
       "      <td>177.0</td>\n",
       "      <td>wheelchair-bound</td>\n",
       "    </tr>\n",
       "  </tbody>\n",
       "</table>\n",
       "</div>"
      ],
      "text/plain": [
       "measurement                   bmi  body_weight  diastolic_bp  heart_rate  \\\n",
       "person_id measurement_date                                                 \n",
       "100276412 2014-03-05        418.0         41.1          64.0        68.0   \n",
       "100281317 2015-04-13        199.0         57.3         109.0       115.0   \n",
       "100347387 2014-01-18        316.9         51.1         103.0        46.0   \n",
       "100444746 2016-11-28        360.3        174.9         120.0        62.0   \n",
       "100562058 2017-10-03          NaN         86.6          52.0         NaN   \n",
       "\n",
       "measurement                 height  pre-pregnancy-weight  systolic_bp  \\\n",
       "person_id measurement_date                                              \n",
       "100276412 2014-03-05         150.0                  66.2        136.0   \n",
       "100281317 2015-04-13          66.3                  75.5         98.0   \n",
       "100347387 2014-01-18          80.5                 100.9        124.0   \n",
       "100444746 2016-11-28          79.5                  57.7        158.0   \n",
       "100562058 2017-10-03          63.0                  87.8        177.0   \n",
       "\n",
       "measurement                wheelchair-bound-status  \n",
       "person_id measurement_date                          \n",
       "100276412 2014-03-05              wheelchair-bound  \n",
       "100281317 2015-04-13                          None  \n",
       "100347387 2014-01-18              wheelchair-bound  \n",
       "100444746 2016-11-28              wheelchair-bound  \n",
       "100562058 2017-10-03              wheelchair-bound  "
      ]
     },
     "execution_count": 11,
     "metadata": {},
     "output_type": "execute_result"
    }
   ],
   "source": [
    "measurements.head()"
   ]
  },
  {
   "cell_type": "markdown",
   "metadata": {},
   "source": [
    "Now that we have numeric values, we can perform analyses; for instance, we can plot histograms of the numberic variables. Values are uniformly diastributed for all variables.\n",
    "\n",
    "This step is performed using another Python package called `seaborn`, which makes it really easy to generate a grid of plots of the same type:"
   ]
  },
  {
   "cell_type": "code",
   "execution_count": 12,
   "metadata": {
    "inputHidden": false,
    "outputHidden": false
   },
   "outputs": [
    {
     "data": {
      "image/png": "[encoded data removed]",
      "text/plain": [
       "<matplotlib.figure.Figure at 0x11d4cd940>"
      ]
     },
     "metadata": {},
     "output_type": "display_data"
    }
   ],
   "source": [
    "g = sns.FacetGrid(measurements[measurements.columns[:-1]].stack().reset_index().rename(columns={0:'value'}), col=\"measurement\", \n",
    "                  margin_titles=True, col_wrap=3)\n",
    "g.map(sns.distplot, 'value', kde=False);"
   ]
  },
  {
   "cell_type": "markdown",
   "metadata": {
    "inputHidden": false,
    "outputHidden": false
   },
   "source": [
    "Now, back to the observation dataset: we want to extract the subset of the observation data corresponding to patients with data in `measurements` table. The `isin` method checks the membership of values in one table with those in another. \n",
    "\n",
    "We then drop rows with missing values in the `value_source_value` column using `dropna`."
   ]
  },
  {
   "cell_type": "code",
   "execution_count": 13,
   "metadata": {},
   "outputs": [],
   "source": [
    "observation_subset = (observation_data[observation_data.person_id\n",
    "                                        .isin(measurement_data.person_id)]\n",
    "                                        .dropna(subset=['value_source_value']))"
   ]
  },
  {
   "cell_type": "code",
   "execution_count": 14,
   "metadata": {
    "inputHidden": false,
    "outputHidden": false
   },
   "outputs": [
    {
     "data": {
      "text/html": [
       "<div>\n",
       "<style>\n",
       "    .dataframe thead tr:only-child th {\n",
       "        text-align: right;\n",
       "    }\n",
       "\n",
       "    .dataframe thead th {\n",
       "        text-align: left;\n",
       "    }\n",
       "\n",
       "    .dataframe tbody tr th {\n",
       "        vertical-align: top;\n",
       "    }\n",
       "</style>\n",
       "<table border=\"1\" class=\"dataframe\">\n",
       "  <thead>\n",
       "    <tr style=\"text-align: right;\">\n",
       "      <th></th>\n",
       "      <th>observation_id</th>\n",
       "      <th>person_id</th>\n",
       "      <th>observation_concept_id</th>\n",
       "      <th>observation_date</th>\n",
       "      <th>observation_datetime</th>\n",
       "      <th>observation_type_concept_id</th>\n",
       "      <th>value_as_number</th>\n",
       "      <th>value_as_string</th>\n",
       "      <th>value_as_concept_id</th>\n",
       "      <th>qualifier_concept_id</th>\n",
       "      <th>unit_concept_id</th>\n",
       "      <th>provider_id</th>\n",
       "      <th>visit_occurrence_id</th>\n",
       "      <th>observation_source_value</th>\n",
       "      <th>observation_source_concept_id</th>\n",
       "      <th>unit_source_value</th>\n",
       "      <th>qualifier_source_value</th>\n",
       "      <th>value_source_concept_id</th>\n",
       "      <th>value_source_value</th>\n",
       "      <th>questionnaire_response_id</th>\n",
       "    </tr>\n",
       "  </thead>\n",
       "  <tbody>\n",
       "    <tr>\n",
       "      <th>1192841</th>\n",
       "      <td>1214695</td>\n",
       "      <td>999647995</td>\n",
       "      <td>40768856</td>\n",
       "      <td>2017-02-19</td>\n",
       "      <td>2017-02-19 15:49:49</td>\n",
       "      <td>581413</td>\n",
       "      <td>NaN</td>\n",
       "      <td>NaN</td>\n",
       "      <td>45877994</td>\n",
       "      <td>0</td>\n",
       "      <td>0</td>\n",
       "      <td>NaN</td>\n",
       "      <td>7512.0</td>\n",
       "      <td>66174-4</td>\n",
       "      <td>40768856</td>\n",
       "      <td>NaN</td>\n",
       "      <td>NaN</td>\n",
       "      <td>45877994</td>\n",
       "      <td>LA33-6</td>\n",
       "      <td>NaN</td>\n",
       "    </tr>\n",
       "    <tr>\n",
       "      <th>1192842</th>\n",
       "      <td>1214696</td>\n",
       "      <td>999863749</td>\n",
       "      <td>1586218</td>\n",
       "      <td>2015-07-19</td>\n",
       "      <td>2015-07-19 16:49:46</td>\n",
       "      <td>581413</td>\n",
       "      <td>NaN</td>\n",
       "      <td>NaN</td>\n",
       "      <td>0</td>\n",
       "      <td>0</td>\n",
       "      <td>0</td>\n",
       "      <td>NaN</td>\n",
       "      <td>7513.0</td>\n",
       "      <td>heart-rhythm-status</td>\n",
       "      <td>1586218</td>\n",
       "      <td>NaN</td>\n",
       "      <td>NaN</td>\n",
       "      <td>0</td>\n",
       "      <td>irregularity-detected</td>\n",
       "      <td>NaN</td>\n",
       "    </tr>\n",
       "    <tr>\n",
       "      <th>1192843</th>\n",
       "      <td>1214697</td>\n",
       "      <td>999863749</td>\n",
       "      <td>1586222</td>\n",
       "      <td>2015-07-19</td>\n",
       "      <td>2015-07-19 16:49:46</td>\n",
       "      <td>581413</td>\n",
       "      <td>NaN</td>\n",
       "      <td>NaN</td>\n",
       "      <td>0</td>\n",
       "      <td>0</td>\n",
       "      <td>0</td>\n",
       "      <td>NaN</td>\n",
       "      <td>7513.0</td>\n",
       "      <td>protocol-modifications-blood-pressure</td>\n",
       "      <td>1586222</td>\n",
       "      <td>NaN</td>\n",
       "      <td>NaN</td>\n",
       "      <td>0</td>\n",
       "      <td>manual-blood-pressure</td>\n",
       "      <td>NaN</td>\n",
       "    </tr>\n",
       "    <tr>\n",
       "      <th>1192844</th>\n",
       "      <td>1214698</td>\n",
       "      <td>999863749</td>\n",
       "      <td>1586223</td>\n",
       "      <td>2015-07-19</td>\n",
       "      <td>2015-07-19 16:49:46</td>\n",
       "      <td>581413</td>\n",
       "      <td>NaN</td>\n",
       "      <td>NaN</td>\n",
       "      <td>0</td>\n",
       "      <td>0</td>\n",
       "      <td>0</td>\n",
       "      <td>NaN</td>\n",
       "      <td>7513.0</td>\n",
       "      <td>protocol-modifications-heart-rate</td>\n",
       "      <td>1586223</td>\n",
       "      <td>NaN</td>\n",
       "      <td>NaN</td>\n",
       "      <td>0</td>\n",
       "      <td>manual-heart-rate</td>\n",
       "      <td>NaN</td>\n",
       "    </tr>\n",
       "    <tr>\n",
       "      <th>1192847</th>\n",
       "      <td>1214701</td>\n",
       "      <td>999863749</td>\n",
       "      <td>40768856</td>\n",
       "      <td>2015-07-19</td>\n",
       "      <td>2015-07-19 16:49:46</td>\n",
       "      <td>581413</td>\n",
       "      <td>NaN</td>\n",
       "      <td>NaN</td>\n",
       "      <td>45877994</td>\n",
       "      <td>0</td>\n",
       "      <td>0</td>\n",
       "      <td>NaN</td>\n",
       "      <td>7513.0</td>\n",
       "      <td>66174-4</td>\n",
       "      <td>40768856</td>\n",
       "      <td>NaN</td>\n",
       "      <td>NaN</td>\n",
       "      <td>45877994</td>\n",
       "      <td>LA33-6</td>\n",
       "      <td>NaN</td>\n",
       "    </tr>\n",
       "  </tbody>\n",
       "</table>\n",
       "</div>"
      ],
      "text/plain": [
       "         observation_id  person_id  observation_concept_id observation_date  \\\n",
       "1192841         1214695  999647995                40768856       2017-02-19   \n",
       "1192842         1214696  999863749                 1586218       2015-07-19   \n",
       "1192843         1214697  999863749                 1586222       2015-07-19   \n",
       "1192844         1214698  999863749                 1586223       2015-07-19   \n",
       "1192847         1214701  999863749                40768856       2015-07-19   \n",
       "\n",
       "        observation_datetime  observation_type_concept_id  value_as_number  \\\n",
       "1192841  2017-02-19 15:49:49                       581413              NaN   \n",
       "1192842  2015-07-19 16:49:46                       581413              NaN   \n",
       "1192843  2015-07-19 16:49:46                       581413              NaN   \n",
       "1192844  2015-07-19 16:49:46                       581413              NaN   \n",
       "1192847  2015-07-19 16:49:46                       581413              NaN   \n",
       "\n",
       "        value_as_string  value_as_concept_id  qualifier_concept_id  \\\n",
       "1192841             NaN             45877994                     0   \n",
       "1192842             NaN                    0                     0   \n",
       "1192843             NaN                    0                     0   \n",
       "1192844             NaN                    0                     0   \n",
       "1192847             NaN             45877994                     0   \n",
       "\n",
       "         unit_concept_id  provider_id  visit_occurrence_id  \\\n",
       "1192841                0          NaN               7512.0   \n",
       "1192842                0          NaN               7513.0   \n",
       "1192843                0          NaN               7513.0   \n",
       "1192844                0          NaN               7513.0   \n",
       "1192847                0          NaN               7513.0   \n",
       "\n",
       "                      observation_source_value  observation_source_concept_id  \\\n",
       "1192841                                66174-4                       40768856   \n",
       "1192842                    heart-rhythm-status                        1586218   \n",
       "1192843  protocol-modifications-blood-pressure                        1586222   \n",
       "1192844      protocol-modifications-heart-rate                        1586223   \n",
       "1192847                                66174-4                       40768856   \n",
       "\n",
       "         unit_source_value  qualifier_source_value  value_source_concept_id  \\\n",
       "1192841                NaN                     NaN                 45877994   \n",
       "1192842                NaN                     NaN                        0   \n",
       "1192843                NaN                     NaN                        0   \n",
       "1192844                NaN                     NaN                        0   \n",
       "1192847                NaN                     NaN                 45877994   \n",
       "\n",
       "            value_source_value  questionnaire_response_id  \n",
       "1192841                 LA33-6                        NaN  \n",
       "1192842  irregularity-detected                        NaN  \n",
       "1192843  manual-blood-pressure                        NaN  \n",
       "1192844      manual-heart-rate                        NaN  \n",
       "1192847                 LA33-6                        NaN  "
      ]
     },
     "execution_count": 14,
     "metadata": {},
     "output_type": "execute_result"
    }
   ],
   "source": [
    "observation_subset.tail()"
   ]
  },
  {
   "cell_type": "markdown",
   "metadata": {},
   "source": [
    "We will now drop duplicate values from the observation dataset, and pivot to wide format, as we did with the measurement data."
   ]
  },
  {
   "cell_type": "code",
   "execution_count": 15,
   "metadata": {},
   "outputs": [],
   "source": [
    "observation_subset = (observation_subset.drop_duplicates(subset=['person_id','observation_date'])\n",
    "                .set_index(['person_id','observation_date','observation_source_value'])\n",
    "                .drop_duplicates()\n",
    "                .value_source_value\n",
    "                .unstack(level=-1))"
   ]
  },
  {
   "cell_type": "markdown",
   "metadata": {
    "inputHidden": false,
    "outputHidden": false
   },
   "source": [
    "There are a large number of variables in the dataset with missing values. We can see what proportion of variables are missing what proportion of each column is missing using the `notnull` method, then taking the `mean` of its result."
   ]
  },
  {
   "cell_type": "code",
   "execution_count": 16,
   "metadata": {
    "inputHidden": false,
    "outputHidden": false
   },
   "outputs": [
    {
     "data": {
      "text/plain": [
       "observation_source_value\n",
       "ActiveDuty_AvtiveDutyServeStatus         0.201020\n",
       "heart-rhythm-status                      0.169846\n",
       "ExtraConsent_18YearsofAge                0.140428\n",
       "OverallHealth_AverageFatigue7Days        0.109480\n",
       "EHRConsentPII_AccessChangeMind           0.101460\n",
       "Alcohol_6orMoreDrinksOccurence           0.094374\n",
       "Alcohol_AlcoholParticipant               0.026952\n",
       "ColumbiaSitePairing_ColumbiaCare         0.024940\n",
       "EHRConsentPII_AccessPrivacyGuaruntee     0.018138\n",
       "EastSoutheastMichigan_CareAtHenryFord    0.017118\n",
       "dtype: float64"
      ]
     },
     "execution_count": 16,
     "metadata": {},
     "output_type": "execute_result"
    }
   ],
   "source": [
    "observation_subset.notnull().mean().sort_values(ascending=False).head(10)"
   ]
  },
  {
   "cell_type": "markdown",
   "metadata": {},
   "source": [
    "Based on this, we will take only variables with >5% non-missingness, and `join` them with measurements. Notice that the merged dataset is much smaller than the original `observations` table."
   ]
  },
  {
   "cell_type": "code",
   "execution_count": 17,
   "metadata": {
    "inputHidden": false,
    "outputHidden": false
   },
   "outputs": [
    {
     "data": {
      "text/plain": [
       "(35285, 15)"
      ]
     },
     "execution_count": 17,
     "metadata": {},
     "output_type": "execute_result"
    }
   ],
   "source": [
    "cols_to_keep = observation_subset.notnull().mean().sort_values(ascending=False).iloc[:5].index\n",
    "merged_dataset = measurements.reset_index(level=-1).join(observation_subset[cols_to_keep].reset_index(level=-1))\n",
    "merged_dataset.shape"
   ]
  },
  {
   "cell_type": "markdown",
   "metadata": {},
   "source": [
    "The merged dataset now contains columns from both tables with data from the same patients."
   ]
  },
  {
   "cell_type": "code",
   "execution_count": 18,
   "metadata": {
    "inputHidden": false,
    "outputHidden": false
   },
   "outputs": [
    {
     "data": {
      "text/html": [
       "<div>\n",
       "<style>\n",
       "    .dataframe thead tr:only-child th {\n",
       "        text-align: right;\n",
       "    }\n",
       "\n",
       "    .dataframe thead th {\n",
       "        text-align: left;\n",
       "    }\n",
       "\n",
       "    .dataframe tbody tr th {\n",
       "        vertical-align: top;\n",
       "    }\n",
       "</style>\n",
       "<table border=\"1\" class=\"dataframe\">\n",
       "  <thead>\n",
       "    <tr style=\"text-align: right;\">\n",
       "      <th></th>\n",
       "      <th>measurement_date</th>\n",
       "      <th>bmi</th>\n",
       "      <th>body_weight</th>\n",
       "      <th>diastolic_bp</th>\n",
       "      <th>heart_rate</th>\n",
       "      <th>height</th>\n",
       "      <th>pre-pregnancy-weight</th>\n",
       "      <th>systolic_bp</th>\n",
       "      <th>wheelchair-bound-status</th>\n",
       "      <th>observation_date</th>\n",
       "      <th>ActiveDuty_AvtiveDutyServeStatus</th>\n",
       "      <th>heart-rhythm-status</th>\n",
       "      <th>ExtraConsent_18YearsofAge</th>\n",
       "      <th>OverallHealth_AverageFatigue7Days</th>\n",
       "      <th>EHRConsentPII_AccessChangeMind</th>\n",
       "    </tr>\n",
       "    <tr>\n",
       "      <th>person_id</th>\n",
       "      <th></th>\n",
       "      <th></th>\n",
       "      <th></th>\n",
       "      <th></th>\n",
       "      <th></th>\n",
       "      <th></th>\n",
       "      <th></th>\n",
       "      <th></th>\n",
       "      <th></th>\n",
       "      <th></th>\n",
       "      <th></th>\n",
       "      <th></th>\n",
       "      <th></th>\n",
       "      <th></th>\n",
       "      <th></th>\n",
       "    </tr>\n",
       "  </thead>\n",
       "  <tbody>\n",
       "    <tr>\n",
       "      <th>100276412</th>\n",
       "      <td>2014-03-05</td>\n",
       "      <td>418.0</td>\n",
       "      <td>41.1</td>\n",
       "      <td>64.0</td>\n",
       "      <td>68.0</td>\n",
       "      <td>150.0</td>\n",
       "      <td>66.2</td>\n",
       "      <td>136.0</td>\n",
       "      <td>wheelchair-bound</td>\n",
       "      <td>2014-01-22</td>\n",
       "      <td>None</td>\n",
       "      <td>None</td>\n",
       "      <td>None</td>\n",
       "      <td>None</td>\n",
       "      <td>None</td>\n",
       "    </tr>\n",
       "    <tr>\n",
       "      <th>100276412</th>\n",
       "      <td>2014-03-05</td>\n",
       "      <td>418.0</td>\n",
       "      <td>41.1</td>\n",
       "      <td>64.0</td>\n",
       "      <td>68.0</td>\n",
       "      <td>150.0</td>\n",
       "      <td>66.2</td>\n",
       "      <td>136.0</td>\n",
       "      <td>wheelchair-bound</td>\n",
       "      <td>2014-01-26</td>\n",
       "      <td>None</td>\n",
       "      <td>None</td>\n",
       "      <td>None</td>\n",
       "      <td>None</td>\n",
       "      <td>AccessChangeMind_No</td>\n",
       "    </tr>\n",
       "    <tr>\n",
       "      <th>100276412</th>\n",
       "      <td>2014-03-05</td>\n",
       "      <td>418.0</td>\n",
       "      <td>41.1</td>\n",
       "      <td>64.0</td>\n",
       "      <td>68.0</td>\n",
       "      <td>150.0</td>\n",
       "      <td>66.2</td>\n",
       "      <td>136.0</td>\n",
       "      <td>wheelchair-bound</td>\n",
       "      <td>2014-01-29</td>\n",
       "      <td>PMI_PreferNotToAnswer</td>\n",
       "      <td>None</td>\n",
       "      <td>None</td>\n",
       "      <td>None</td>\n",
       "      <td>None</td>\n",
       "    </tr>\n",
       "    <tr>\n",
       "      <th>100276412</th>\n",
       "      <td>2014-03-05</td>\n",
       "      <td>418.0</td>\n",
       "      <td>41.1</td>\n",
       "      <td>64.0</td>\n",
       "      <td>68.0</td>\n",
       "      <td>150.0</td>\n",
       "      <td>66.2</td>\n",
       "      <td>136.0</td>\n",
       "      <td>wheelchair-bound</td>\n",
       "      <td>2014-03-05</td>\n",
       "      <td>None</td>\n",
       "      <td>no-irregularity-detected</td>\n",
       "      <td>None</td>\n",
       "      <td>None</td>\n",
       "      <td>None</td>\n",
       "    </tr>\n",
       "    <tr>\n",
       "      <th>100281317</th>\n",
       "      <td>2015-04-13</td>\n",
       "      <td>199.0</td>\n",
       "      <td>57.3</td>\n",
       "      <td>109.0</td>\n",
       "      <td>115.0</td>\n",
       "      <td>66.3</td>\n",
       "      <td>75.5</td>\n",
       "      <td>98.0</td>\n",
       "      <td>None</td>\n",
       "      <td>2015-01-18</td>\n",
       "      <td>None</td>\n",
       "      <td>None</td>\n",
       "      <td>18YearsofAge_18YearsYes</td>\n",
       "      <td>None</td>\n",
       "      <td>None</td>\n",
       "    </tr>\n",
       "  </tbody>\n",
       "</table>\n",
       "</div>"
      ],
      "text/plain": [
       "          measurement_date    bmi  body_weight  diastolic_bp  heart_rate  \\\n",
       "person_id                                                                  \n",
       "100276412       2014-03-05  418.0         41.1          64.0        68.0   \n",
       "100276412       2014-03-05  418.0         41.1          64.0        68.0   \n",
       "100276412       2014-03-05  418.0         41.1          64.0        68.0   \n",
       "100276412       2014-03-05  418.0         41.1          64.0        68.0   \n",
       "100281317       2015-04-13  199.0         57.3         109.0       115.0   \n",
       "\n",
       "           height  pre-pregnancy-weight  systolic_bp wheelchair-bound-status  \\\n",
       "person_id                                                                      \n",
       "100276412   150.0                  66.2        136.0        wheelchair-bound   \n",
       "100276412   150.0                  66.2        136.0        wheelchair-bound   \n",
       "100276412   150.0                  66.2        136.0        wheelchair-bound   \n",
       "100276412   150.0                  66.2        136.0        wheelchair-bound   \n",
       "100281317    66.3                  75.5         98.0                    None   \n",
       "\n",
       "          observation_date ActiveDuty_AvtiveDutyServeStatus  \\\n",
       "person_id                                                     \n",
       "100276412       2014-01-22                             None   \n",
       "100276412       2014-01-26                             None   \n",
       "100276412       2014-01-29            PMI_PreferNotToAnswer   \n",
       "100276412       2014-03-05                             None   \n",
       "100281317       2015-01-18                             None   \n",
       "\n",
       "                heart-rhythm-status ExtraConsent_18YearsofAge  \\\n",
       "person_id                                                       \n",
       "100276412                      None                      None   \n",
       "100276412                      None                      None   \n",
       "100276412                      None                      None   \n",
       "100276412  no-irregularity-detected                      None   \n",
       "100281317                      None   18YearsofAge_18YearsYes   \n",
       "\n",
       "          OverallHealth_AverageFatigue7Days EHRConsentPII_AccessChangeMind  \n",
       "person_id                                                                   \n",
       "100276412                              None                           None  \n",
       "100276412                              None            AccessChangeMind_No  \n",
       "100276412                              None                           None  \n",
       "100276412                              None                           None  \n",
       "100281317                              None                           None  "
      ]
     },
     "execution_count": 18,
     "metadata": {},
     "output_type": "execute_result"
    }
   ],
   "source": [
    "merged_dataset.head()"
   ]
  },
  {
   "cell_type": "markdown",
   "metadata": {},
   "source": [
    "Several of the variables are **categorical**. We can transform categorical variables to numeric values, so they can be used in quantitative analyses.\n",
    "\n",
    "Notice in each cell below, we are using the `replace` method again, along with a *lookup table* replacing text values with numeric values."
   ]
  },
  {
   "cell_type": "code",
   "execution_count": 19,
   "metadata": {
    "inputHidden": false,
    "outputHidden": false
   },
   "outputs": [],
   "source": [
    "merged_dataset['active_duty'] = (merged_dataset.ActiveDuty_AvtiveDutyServeStatus\n",
    "                                           .replace({'AvtiveDutyServeStatus_No': 0,\n",
    "                                                   'AvtiveDutyServeStatus_Yes': 1,\n",
    "                                                   'PMI_PreferNotToAnswer': np.nan}))"
   ]
  },
  {
   "cell_type": "code",
   "execution_count": 20,
   "metadata": {
    "inputHidden": false,
    "outputHidden": false
   },
   "outputs": [],
   "source": [
    "merged_dataset['wheelchair_bound'] = (merged_dataset['wheelchair-bound-status'].fillna(0)\n",
    "                                                .replace({'wheelchair-bound':1})\n",
    "                                                .astype(int))\n"
   ]
  },
  {
   "cell_type": "code",
   "execution_count": 21,
   "metadata": {
    "inputHidden": false,
    "outputHidden": false
   },
   "outputs": [],
   "source": [
    "merged_dataset['heart_irregularity'] = (merged_dataset['heart-rhythm-status']\n",
    "                                        .replace({'no-irregularity-detected': 0,\n",
    "                                                 'irregularity-detected': 1}))"
   ]
  },
  {
   "cell_type": "code",
   "execution_count": 22,
   "metadata": {
    "inputHidden": false,
    "outputHidden": false
   },
   "outputs": [],
   "source": [
    "merged_dataset['fatigue'] = (merged_dataset.OverallHealth_AverageFatigue7Days\n",
    "                                .replace({'AverageFatigue7Days_None': 0,\n",
    "                                         'AverageFatigue7Days_Mild': 1,\n",
    "                                         'AverageFatigue7Days_Moderate': 2,\n",
    "                                         'AverageFatigue7Days_Severe': 3,\n",
    "                                         'AverageFatigue7Days_VerySevere': 4}))"
   ]
  },
  {
   "cell_type": "code",
   "execution_count": 23,
   "metadata": {
    "inputHidden": false,
    "outputHidden": false
   },
   "outputs": [],
   "source": [
    "merged_dataset.dropna(subset=['fatigue'], inplace=True)"
   ]
  },
  {
   "cell_type": "markdown",
   "metadata": {
    "inputHidden": false,
    "outputHidden": false
   },
   "source": [
    "## Data analysis\n",
    "\n",
    "To perform an analysis on the dataset, we will use `scikit-learn`, a powerful package for applying machine learning algorithms to large datasets.\n",
    "\n",
    "Using `scikit-learn`, we will use a powerful method called *random forests* to try and predict fatigue in patients from a set of variables. Specifically, we will attempt to predict moderate or worse fatigue, so we can create this variable here:"
   ]
  },
  {
   "cell_type": "code",
   "execution_count": 24,
   "metadata": {},
   "outputs": [],
   "source": [
    "y = (merged_dataset.fatigue.values > 1).astype(int)"
   ]
  },
  {
   "cell_type": "markdown",
   "metadata": {},
   "source": [
    "This gives us zeros or ones depending on whether the level of fatigue was moderate or greater.\n",
    "\n",
    "Next, we extract a set of variables we feel may be predictive of fatigue. We can *index* them from the merged dataset like this:"
   ]
  },
  {
   "cell_type": "code",
   "execution_count": 25,
   "metadata": {
    "inputHidden": false,
    "outputHidden": false
   },
   "outputs": [],
   "source": [
    "X = merged_dataset[['active_duty', 'wheelchair_bound', 'heart_irregularity', 'bmi', 'body_weight',\n",
    "                   'diastolic_bp', 'heart_rate', 'height', 'systolic_bp']]"
   ]
  },
  {
   "cell_type": "markdown",
   "metadata": {},
   "source": [
    "Since we have *missing values*, the first step is to impute missing predictors; the missing values are all in the categorical variables, so we will impute based in the most frequent category.\n",
    "\n",
    "The `scikit-learn` package has an `Imputer` for automatically performing the imputation using the method that we specify:"
   ]
  },
  {
   "cell_type": "code",
   "execution_count": 26,
   "metadata": {
    "inputHidden": false,
    "outputHidden": false
   },
   "outputs": [],
   "source": [
    "from sklearn.preprocessing import Imputer\n",
    "\n",
    "value_imputer = Imputer(missing_values='NaN', strategy='most_frequent', axis=0)\n",
    "X = value_imputer.fit_transform(X)"
   ]
  },
  {
   "cell_type": "markdown",
   "metadata": {},
   "source": [
    "Next, we use the `RandomForestClassifier` to build a random forest for this dataset. It is called a random forest because it builds a set of decision trees using subsets of the input variables to predict the outcome. It then *averages* over these trees to make predictions. It is good at accounting for *interactions* among the predictor variables.\n",
    "\n",
    "We first create a classifier ant `fit` it to our data."
   ]
  },
  {
   "cell_type": "code",
   "execution_count": 27,
   "metadata": {},
   "outputs": [
    {
     "data": {
      "text/plain": [
       "RandomForestClassifier(bootstrap=True, class_weight=None, criterion='gini',\n",
       "            max_depth=None, max_features='auto', max_leaf_nodes=None,\n",
       "            min_impurity_split=1e-07, min_samples_leaf=1,\n",
       "            min_samples_split=2, min_weight_fraction_leaf=0.0,\n",
       "            n_estimators=10, n_jobs=4, oob_score=False, random_state=None,\n",
       "            verbose=0, warm_start=False)"
      ]
     },
     "execution_count": 27,
     "metadata": {},
     "output_type": "execute_result"
    }
   ],
   "source": [
    "from sklearn.ensemble import RandomForestClassifier\n",
    "\n",
    "rf = RandomForestClassifier(n_jobs=4)\n",
    "rf.fit(X, y)"
   ]
  },
  {
   "cell_type": "markdown",
   "metadata": {},
   "source": [
    "After fitting, we can try and predict outcomes using the classifier. If we pass in our original data, we can see that it does rather well at recovering the true outcome:"
   ]
  },
  {
   "cell_type": "code",
   "execution_count": 28,
   "metadata": {},
   "outputs": [
    {
     "data": {
      "text/html": [
       "<div>\n",
       "<style>\n",
       "    .dataframe thead tr:only-child th {\n",
       "        text-align: right;\n",
       "    }\n",
       "\n",
       "    .dataframe thead th {\n",
       "        text-align: left;\n",
       "    }\n",
       "\n",
       "    .dataframe tbody tr th {\n",
       "        vertical-align: top;\n",
       "    }\n",
       "</style>\n",
       "<table border=\"1\" class=\"dataframe\">\n",
       "  <thead>\n",
       "    <tr style=\"text-align: right;\">\n",
       "      <th>prediction</th>\n",
       "      <th>0</th>\n",
       "      <th>1</th>\n",
       "    </tr>\n",
       "    <tr>\n",
       "      <th>actual</th>\n",
       "      <th></th>\n",
       "      <th></th>\n",
       "    </tr>\n",
       "  </thead>\n",
       "  <tbody>\n",
       "    <tr>\n",
       "      <th>0</th>\n",
       "      <td>1533</td>\n",
       "      <td>12</td>\n",
       "    </tr>\n",
       "    <tr>\n",
       "      <th>1</th>\n",
       "      <td>33</td>\n",
       "      <td>2285</td>\n",
       "    </tr>\n",
       "  </tbody>\n",
       "</table>\n",
       "</div>"
      ],
      "text/plain": [
       "prediction     0     1\n",
       "actual                \n",
       "0           1533    12\n",
       "1             33  2285"
      ]
     },
     "execution_count": 28,
     "metadata": {},
     "output_type": "execute_result"
    }
   ],
   "source": [
    "preds = rf.predict(X)\n",
    "pd.crosstab(y, preds, rownames=['actual'], \n",
    "            colnames=['prediction'])"
   ]
  },
  {
   "cell_type": "markdown",
   "metadata": {},
   "source": [
    "We can verify this using the `accuracy_score` function, which returns a high value."
   ]
  },
  {
   "cell_type": "code",
   "execution_count": 29,
   "metadata": {},
   "outputs": [
    {
     "data": {
      "text/plain": [
       "0.98835102252135643"
      ]
     },
     "execution_count": 29,
     "metadata": {},
     "output_type": "execute_result"
    }
   ],
   "source": [
    "from sklearn.metrics import accuracy_score\n",
    "\n",
    "accuracy_score(y, preds)"
   ]
  },
  {
   "cell_type": "markdown",
   "metadata": {},
   "source": [
    "BUT, this model is *overfit* to the dataset!\n",
    "\n",
    "If we perform *cross-validation*, which holds out part of the data, fitting the model to the rest and checking it with the hold-out dataset, we can see that the model does poorly. Only 50% accuracy on the hold-out sets!"
   ]
  },
  {
   "cell_type": "code",
   "execution_count": 30,
   "metadata": {},
   "outputs": [
    {
     "data": {
      "text/plain": [
       "array([ 0.50931677,  0.50621118,  0.52136752])"
      ]
     },
     "execution_count": 30,
     "metadata": {},
     "output_type": "execute_result"
    }
   ],
   "source": [
    "from sklearn.model_selection import cross_val_score\n",
    "\n",
    "cross_val_score(rf, X, y, n_jobs=3)"
   ]
  },
  {
   "cell_type": "markdown",
   "metadata": {},
   "source": [
    "## Conclusions\n",
    "\n",
    "This being a randomly-generated dataset, it is not particularly useful for prediction. However, this notebook illustrates what an analytic workflow might look like for real PMI data. "
   ]
  },
  {
   "cell_type": "markdown",
   "metadata": {},
   "source": [
    "---"
   ]
  },
  {
   "cell_type": "code",
   "execution_count": 31,
   "metadata": {},
   "outputs": [
    {
     "data": {
      "text/html": [
       "<style>\n",
       "    @font-face {\n",
       "        font-family: \"Computer Modern\";\n",
       "        src: url('http://mirrors.ctan.org/fonts/cm-unicode/fonts/otf/cmunss.otf');\n",
       "    }\n",
       "    div.cell{\n",
       "        width: 90%;\n",
       "/*        margin-left:auto;*/\n",
       "/*        margin-right:auto;*/\n",
       "    }\n",
       "    ul {\n",
       "        line-height: 145%;\n",
       "        font-size: 90%;\n",
       "    }\n",
       "    li {\n",
       "        margin-bottom: 1em;\n",
       "    }\n",
       "    h1 {\n",
       "        font-family: Helvetica, serif;\n",
       "    }\n",
       "    h4{\n",
       "        margin-top: 12px;\n",
       "        margin-bottom: 3px;\n",
       "       }\n",
       "    div.text_cell_render{\n",
       "        font-family: Computer Modern, \"Helvetica Neue\", Arial, Helvetica, Geneva, sans-serif;\n",
       "        line-height: 145%;\n",
       "        font-size: 130%;\n",
       "        width: 90%;\n",
       "        margin-left:auto;\n",
       "        margin-right:auto;\n",
       "    }\n",
       "    .CodeMirror{\n",
       "            font-family: \"Source Code Pro\", source-code-pro,Consolas, monospace;\n",
       "    }\n",
       "/*    .prompt{\n",
       "        display: None;\n",
       "    }*/\n",
       "    .text_cell_render h5 {\n",
       "        font-weight: 300;\n",
       "        font-size: 16pt;\n",
       "        color: #4057A1;\n",
       "        font-style: italic;\n",
       "        margin-bottom: 0.5em;\n",
       "        margin-top: 0.5em;\n",
       "        display: block;\n",
       "    }\n",
       "\n",
       "    .warning{\n",
       "        color: rgb( 240, 20, 20 )\n",
       "        }\n",
       "</style>\n",
       "<script>\n",
       "    MathJax.Hub.Config({\n",
       "                        TeX: {\n",
       "                           extensions: [\"AMSmath.js\"]\n",
       "                           },\n",
       "                tex2jax: {\n",
       "                    inlineMath: [ ['$','$'], [\"\\\\(\",\"\\\\)\"] ],\n",
       "                    displayMath: [ ['$$','$$'], [\"\\\\[\",\"\\\\]\"] ]\n",
       "                },\n",
       "                displayAlign: 'center', // Change this to 'center' to center equations.\n",
       "                \"HTML-CSS\": {\n",
       "                    styles: {'.MathJax_Display': {\"margin\": 4}}\n",
       "                }\n",
       "        });\n",
       "</script>"
      ],
      "text/plain": [
       "<IPython.core.display.HTML object>"
      ]
     },
     "execution_count": 31,
     "metadata": {},
     "output_type": "execute_result"
    }
   ],
   "source": [
    "from IPython.core.display import HTML\n",
    "def css_styling():\n",
    "    styles = open(\"styles/custom.css\", \"r\").read()\n",
    "    return HTML(styles)\n",
    "css_styling()"
   ]
  }
 ],
 "metadata": {
  "_draft": {
   "nbviewer_url": "https://gist.github.com/355d95b94c64a51dc17076f6861ae2c3"
  },
  "gist": {
   "data": {
    "description": "PMI Demo Analysis.ipynb",
    "public": false
   },
   "id": "355d95b94c64a51dc17076f6861ae2c3"
  },
  "kernel_info": {
   "name": "python3"
  },
  "kernelspec": {
   "display_name": "Python 3",
   "language": "python",
   "name": "python3"
  },
  "language_info": {
   "codemirror_mode": {
    "name": "ipython",
    "version": 3
   },
   "file_extension": ".py",
   "mimetype": "text/x-python",
   "name": "python",
   "nbconvert_exporter": "python",
   "pygments_lexer": "ipython3",
   "version": "3.6.1"
  },
  "nteract": {
   "version": "0.3.4"
  }
 },
 "nbformat": 4,
 "nbformat_minor": 2
}
